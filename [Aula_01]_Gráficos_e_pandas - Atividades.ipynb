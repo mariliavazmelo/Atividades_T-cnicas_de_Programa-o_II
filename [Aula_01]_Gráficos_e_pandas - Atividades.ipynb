{
  "cells": [
    {
      "cell_type": "markdown",
      "metadata": {
        "id": "BndHyBC8RerQ"
      },
      "source": [
        "### Exercícios"
      ]
    },
    {
      "cell_type": "markdown",
      "metadata": {
        "id": "8iU2iAc5RerQ"
      },
      "source": [
        "Utilizando a plotagem com pandas, reproduzam as visualizações abaixo, tentando deixá-las o mais próximas quanto possível da maneira como estão postas. Para isso, atentem-se às personalizações dos gráficos, como títulos, legendas, eixos e outros tipos possíveis de formatações e preferências de visualizações dos dados. Também é interessante que vocês discutam possíveis pontos de melhorias dessas visualizações!"
      ]
    },
    {
      "cell_type": "markdown",
      "metadata": {
        "id": "SpMW5YoMRerQ"
      },
      "source": [
        "**Exercício 1.** Reproduza o gráfico de barras abaixo, em que cada barra representa um dos 10 países com mais casos confirmados de COVID no dataset, e a \"quebra\" em cada cor indica a predominância de casos confirmados em cada mês."
      ]
    },
    {
      "cell_type": "code",
      "execution_count": 1,
      "metadata": {},
      "outputs": [],
      "source": [
        "import pandas as pd\n",
        "import matplotlib.pyplot as plt\n",
        "import datetime as dt"
      ]
    },
    {
      "attachments": {},
      "cell_type": "markdown",
      "metadata": {},
      "source": [
        "**Ler o dataset.**"
      ]
    },
    {
      "cell_type": "code",
      "execution_count": 2,
      "metadata": {},
      "outputs": [
        {
          "data": {
            "text/html": [
              "<div>\n",
              "<style scoped>\n",
              "    .dataframe tbody tr th:only-of-type {\n",
              "        vertical-align: middle;\n",
              "    }\n",
              "\n",
              "    .dataframe tbody tr th {\n",
              "        vertical-align: top;\n",
              "    }\n",
              "\n",
              "    .dataframe thead th {\n",
              "        text-align: right;\n",
              "    }\n",
              "</style>\n",
              "<table border=\"1\" class=\"dataframe\">\n",
              "  <thead>\n",
              "    <tr style=\"text-align: right;\">\n",
              "      <th></th>\n",
              "      <th>Unnamed: 0</th>\n",
              "      <th>ObservationDate</th>\n",
              "      <th>country</th>\n",
              "      <th>Confirmed</th>\n",
              "      <th>Deaths</th>\n",
              "      <th>Recovered</th>\n",
              "      <th>Code</th>\n",
              "      <th>latitude</th>\n",
              "      <th>longitude</th>\n",
              "      <th>New Confirmed</th>\n",
              "      <th>New Recovered</th>\n",
              "      <th>New Death</th>\n",
              "    </tr>\n",
              "  </thead>\n",
              "  <tbody>\n",
              "    <tr>\n",
              "      <th>0</th>\n",
              "      <td>1063</td>\n",
              "      <td>02/28/2020</td>\n",
              "      <td>azerbaijan</td>\n",
              "      <td>1</td>\n",
              "      <td>0</td>\n",
              "      <td>0</td>\n",
              "      <td>NaN</td>\n",
              "      <td>NaN</td>\n",
              "      <td>NaN</td>\n",
              "      <td>0</td>\n",
              "      <td>0</td>\n",
              "      <td>0</td>\n",
              "    </tr>\n",
              "    <tr>\n",
              "      <th>1</th>\n",
              "      <td>2055</td>\n",
              "      <td>03/10/2020</td>\n",
              "      <td>('st. martin',)</td>\n",
              "      <td>2</td>\n",
              "      <td>0</td>\n",
              "      <td>0</td>\n",
              "      <td>NaN</td>\n",
              "      <td>NaN</td>\n",
              "      <td>NaN</td>\n",
              "      <td>2</td>\n",
              "      <td>0</td>\n",
              "      <td>0</td>\n",
              "    </tr>\n",
              "    <tr>\n",
              "      <th>2</th>\n",
              "      <td>869</td>\n",
              "      <td>02/24/2020</td>\n",
              "      <td>afghanistan</td>\n",
              "      <td>1</td>\n",
              "      <td>0</td>\n",
              "      <td>0</td>\n",
              "      <td>AF</td>\n",
              "      <td>33.93911</td>\n",
              "      <td>67.709953</td>\n",
              "      <td>1</td>\n",
              "      <td>0</td>\n",
              "      <td>0</td>\n",
              "    </tr>\n",
              "    <tr>\n",
              "      <th>3</th>\n",
              "      <td>909</td>\n",
              "      <td>02/25/2020</td>\n",
              "      <td>afghanistan</td>\n",
              "      <td>1</td>\n",
              "      <td>0</td>\n",
              "      <td>0</td>\n",
              "      <td>AF</td>\n",
              "      <td>33.93911</td>\n",
              "      <td>67.709953</td>\n",
              "      <td>0</td>\n",
              "      <td>0</td>\n",
              "      <td>0</td>\n",
              "    </tr>\n",
              "    <tr>\n",
              "      <th>4</th>\n",
              "      <td>955</td>\n",
              "      <td>02/26/2020</td>\n",
              "      <td>afghanistan</td>\n",
              "      <td>1</td>\n",
              "      <td>0</td>\n",
              "      <td>0</td>\n",
              "      <td>AF</td>\n",
              "      <td>33.93911</td>\n",
              "      <td>67.709953</td>\n",
              "      <td>0</td>\n",
              "      <td>0</td>\n",
              "      <td>0</td>\n",
              "    </tr>\n",
              "  </tbody>\n",
              "</table>\n",
              "</div>"
            ],
            "text/plain": [
              "   Unnamed: 0 ObservationDate          country  Confirmed  Deaths  Recovered  \\\n",
              "0        1063      02/28/2020       azerbaijan          1       0          0   \n",
              "1        2055      03/10/2020  ('st. martin',)          2       0          0   \n",
              "2         869      02/24/2020      afghanistan          1       0          0   \n",
              "3         909      02/25/2020      afghanistan          1       0          0   \n",
              "4         955      02/26/2020      afghanistan          1       0          0   \n",
              "\n",
              "  Code  latitude  longitude  New Confirmed  New Recovered  New Death  \n",
              "0  NaN       NaN        NaN              0              0          0  \n",
              "1  NaN       NaN        NaN              2              0          0  \n",
              "2   AF  33.93911  67.709953              1              0          0  \n",
              "3   AF  33.93911  67.709953              0              0          0  \n",
              "4   AF  33.93911  67.709953              0              0          0  "
            ]
          },
          "execution_count": 2,
          "metadata": {},
          "output_type": "execute_result"
        }
      ],
      "source": [
        "df_covid = pd.read_csv('Covid_19_Countrywise_timeseries.csv')\n",
        "df_covid.head()"
      ]
    },
    {
      "cell_type": "code",
      "execution_count": 3,
      "metadata": {},
      "outputs": [
        {
          "name": "stdout",
          "output_type": "stream",
          "text": [
            "<class 'pandas.core.frame.DataFrame'>\n",
            "RangeIndex: 4973 entries, 0 to 4972\n",
            "Data columns (total 12 columns):\n",
            " #   Column           Non-Null Count  Dtype  \n",
            "---  ------           --------------  -----  \n",
            " 0   Unnamed: 0       4973 non-null   int64  \n",
            " 1   ObservationDate  4973 non-null   object \n",
            " 2   country          4973 non-null   object \n",
            " 3   Confirmed        4973 non-null   int64  \n",
            " 4   Deaths           4973 non-null   int64  \n",
            " 5   Recovered        4973 non-null   int64  \n",
            " 6   Code             4713 non-null   object \n",
            " 7   latitude         4728 non-null   float64\n",
            " 8   longitude        4728 non-null   float64\n",
            " 9   New Confirmed    4973 non-null   int64  \n",
            " 10  New Recovered    4973 non-null   int64  \n",
            " 11  New Death        4973 non-null   int64  \n",
            "dtypes: float64(2), int64(7), object(3)\n",
            "memory usage: 466.3+ KB\n"
          ]
        }
      ],
      "source": [
        "df_covid.info()"
      ]
    },
    {
      "attachments": {},
      "cell_type": "markdown",
      "metadata": {},
      "source": [
        "**Transformar a data (string) em datetime.**"
      ]
    },
    {
      "cell_type": "code",
      "execution_count": 4,
      "metadata": {},
      "outputs": [],
      "source": [
        "df_covid['date'] = pd.to_datetime(df_covid['ObservationDate'])"
      ]
    },
    {
      "cell_type": "code",
      "execution_count": 5,
      "metadata": {},
      "outputs": [
        {
          "data": {
            "text/html": [
              "<div>\n",
              "<style scoped>\n",
              "    .dataframe tbody tr th:only-of-type {\n",
              "        vertical-align: middle;\n",
              "    }\n",
              "\n",
              "    .dataframe tbody tr th {\n",
              "        vertical-align: top;\n",
              "    }\n",
              "\n",
              "    .dataframe thead th {\n",
              "        text-align: right;\n",
              "    }\n",
              "</style>\n",
              "<table border=\"1\" class=\"dataframe\">\n",
              "  <thead>\n",
              "    <tr style=\"text-align: right;\">\n",
              "      <th></th>\n",
              "      <th>ObservationDate</th>\n",
              "      <th>date</th>\n",
              "    </tr>\n",
              "  </thead>\n",
              "  <tbody>\n",
              "    <tr>\n",
              "      <th>0</th>\n",
              "      <td>02/28/2020</td>\n",
              "      <td>2020-02-28</td>\n",
              "    </tr>\n",
              "    <tr>\n",
              "      <th>1</th>\n",
              "      <td>03/10/2020</td>\n",
              "      <td>2020-03-10</td>\n",
              "    </tr>\n",
              "    <tr>\n",
              "      <th>2</th>\n",
              "      <td>02/24/2020</td>\n",
              "      <td>2020-02-24</td>\n",
              "    </tr>\n",
              "    <tr>\n",
              "      <th>3</th>\n",
              "      <td>02/25/2020</td>\n",
              "      <td>2020-02-25</td>\n",
              "    </tr>\n",
              "    <tr>\n",
              "      <th>4</th>\n",
              "      <td>02/26/2020</td>\n",
              "      <td>2020-02-26</td>\n",
              "    </tr>\n",
              "  </tbody>\n",
              "</table>\n",
              "</div>"
            ],
            "text/plain": [
              "  ObservationDate       date\n",
              "0      02/28/2020 2020-02-28\n",
              "1      03/10/2020 2020-03-10\n",
              "2      02/24/2020 2020-02-24\n",
              "3      02/25/2020 2020-02-25\n",
              "4      02/26/2020 2020-02-26"
            ]
          },
          "execution_count": 5,
          "metadata": {},
          "output_type": "execute_result"
        }
      ],
      "source": [
        "df_covid[['ObservationDate', 'date']].head()"
      ]
    },
    {
      "attachments": {},
      "cell_type": "markdown",
      "metadata": {},
      "source": [
        "**Top 10 países com mais casos confirmados (acumulado)**"
      ]
    },
    {
      "cell_type": "code",
      "execution_count": 6,
      "metadata": {},
      "outputs": [
        {
          "data": {
            "text/html": [
              "<div>\n",
              "<style scoped>\n",
              "    .dataframe tbody tr th:only-of-type {\n",
              "        vertical-align: middle;\n",
              "    }\n",
              "\n",
              "    .dataframe tbody tr th {\n",
              "        vertical-align: top;\n",
              "    }\n",
              "\n",
              "    .dataframe thead th {\n",
              "        text-align: right;\n",
              "    }\n",
              "</style>\n",
              "<table border=\"1\" class=\"dataframe\">\n",
              "  <thead>\n",
              "    <tr style=\"text-align: right;\">\n",
              "      <th></th>\n",
              "      <th>country</th>\n",
              "      <th>New Confirmed</th>\n",
              "    </tr>\n",
              "  </thead>\n",
              "  <tbody>\n",
              "    <tr>\n",
              "      <th>0</th>\n",
              "      <td>china</td>\n",
              "      <td>81401</td>\n",
              "    </tr>\n",
              "    <tr>\n",
              "      <th>1</th>\n",
              "      <td>france</td>\n",
              "      <td>38105</td>\n",
              "    </tr>\n",
              "    <tr>\n",
              "      <th>2</th>\n",
              "      <td>germany</td>\n",
              "      <td>57695</td>\n",
              "    </tr>\n",
              "    <tr>\n",
              "      <th>3</th>\n",
              "      <td>iran</td>\n",
              "      <td>35408</td>\n",
              "    </tr>\n",
              "    <tr>\n",
              "      <th>4</th>\n",
              "      <td>italy</td>\n",
              "      <td>92472</td>\n",
              "    </tr>\n",
              "    <tr>\n",
              "      <th>5</th>\n",
              "      <td>netherlands</td>\n",
              "      <td>9819</td>\n",
              "    </tr>\n",
              "    <tr>\n",
              "      <th>6</th>\n",
              "      <td>spain</td>\n",
              "      <td>73235</td>\n",
              "    </tr>\n",
              "    <tr>\n",
              "      <th>7</th>\n",
              "      <td>switzerland</td>\n",
              "      <td>14076</td>\n",
              "    </tr>\n",
              "    <tr>\n",
              "      <th>8</th>\n",
              "      <td>uk</td>\n",
              "      <td>17312</td>\n",
              "    </tr>\n",
              "    <tr>\n",
              "      <th>9</th>\n",
              "      <td>us</td>\n",
              "      <td>121478</td>\n",
              "    </tr>\n",
              "  </tbody>\n",
              "</table>\n",
              "</div>"
            ],
            "text/plain": [
              "       country  New Confirmed\n",
              "0        china          81401\n",
              "1       france          38105\n",
              "2      germany          57695\n",
              "3         iran          35408\n",
              "4        italy          92472\n",
              "5  netherlands           9819\n",
              "6        spain          73235\n",
              "7  switzerland          14076\n",
              "8           uk          17312\n",
              "9           us         121478"
            ]
          },
          "execution_count": 6,
          "metadata": {},
          "output_type": "execute_result"
        }
      ],
      "source": [
        "df_covid10 = df_covid.groupby(\"country\")['New Confirmed'].sum().sort_values(ascending = False)[0:10].sort_index(ascending=True).reset_index()\n",
        "df_covid10"
      ]
    },
    {
      "attachments": {},
      "cell_type": "markdown",
      "metadata": {},
      "source": [
        "**Gráfico simples com o total de confirmados por pais (acumulado nos 3 meses)**"
      ]
    },
    {
      "cell_type": "code",
      "execution_count": 7,
      "metadata": {},
      "outputs": [
        {
          "data": {
            "text/plain": [
              "<AxesSubplot: >"
            ]
          },
          "execution_count": 7,
          "metadata": {},
          "output_type": "execute_result"
        },
        {
          "data": {
            "image/png": "[encoded data removed]",
            "text/plain": [
              "<Figure size 640x480 with 1 Axes>"
            ]
          },
          "metadata": {},
          "output_type": "display_data"
        }
      ],
      "source": [
        "df_covid10.plot.barh(legend=False)"
      ]
    },
    {
      "cell_type": "code",
      "execution_count": 8,
      "metadata": {},
      "outputs": [
        {
          "data": {
            "text/plain": [
              "['china',\n",
              " 'france',\n",
              " 'germany',\n",
              " 'iran',\n",
              " 'italy',\n",
              " 'netherlands',\n",
              " 'spain',\n",
              " 'switzerland',\n",
              " 'uk',\n",
              " 'us']"
            ]
          },
          "execution_count": 8,
          "metadata": {},
          "output_type": "execute_result"
        }
      ],
      "source": [
        "lista_country = df_covid10['country'].tolist()\n",
        "lista_country"
      ]
    },
    {
      "attachments": {},
      "cell_type": "markdown",
      "metadata": {},
      "source": [
        "- **Filtrando JANEIRO.**"
      ]
    },
    {
      "cell_type": "code",
      "execution_count": 9,
      "metadata": {},
      "outputs": [
        {
          "data": {
            "text/html": [
              "<div>\n",
              "<style scoped>\n",
              "    .dataframe tbody tr th:only-of-type {\n",
              "        vertical-align: middle;\n",
              "    }\n",
              "\n",
              "    .dataframe tbody tr th {\n",
              "        vertical-align: top;\n",
              "    }\n",
              "\n",
              "    .dataframe thead th {\n",
              "        text-align: right;\n",
              "    }\n",
              "</style>\n",
              "<table border=\"1\" class=\"dataframe\">\n",
              "  <thead>\n",
              "    <tr style=\"text-align: right;\">\n",
              "      <th></th>\n",
              "      <th>country</th>\n",
              "      <th>date</th>\n",
              "      <th>New Confirmed</th>\n",
              "    </tr>\n",
              "  </thead>\n",
              "  <tbody>\n",
              "    <tr>\n",
              "      <th>202</th>\n",
              "      <td>australia</td>\n",
              "      <td>2020-01-23</td>\n",
              "      <td>0</td>\n",
              "    </tr>\n",
              "    <tr>\n",
              "      <th>203</th>\n",
              "      <td>australia</td>\n",
              "      <td>2020-01-25</td>\n",
              "      <td>4</td>\n",
              "    </tr>\n",
              "    <tr>\n",
              "      <th>204</th>\n",
              "      <td>australia</td>\n",
              "      <td>2020-01-26</td>\n",
              "      <td>0</td>\n",
              "    </tr>\n",
              "    <tr>\n",
              "      <th>205</th>\n",
              "      <td>australia</td>\n",
              "      <td>2020-01-27</td>\n",
              "      <td>1</td>\n",
              "    </tr>\n",
              "    <tr>\n",
              "      <th>206</th>\n",
              "      <td>australia</td>\n",
              "      <td>2020-01-28</td>\n",
              "      <td>0</td>\n",
              "    </tr>\n",
              "  </tbody>\n",
              "</table>\n",
              "</div>"
            ],
            "text/plain": [
              "       country       date  New Confirmed\n",
              "202  australia 2020-01-23              0\n",
              "203  australia 2020-01-25              4\n",
              "204  australia 2020-01-26              0\n",
              "205  australia 2020-01-27              1\n",
              "206  australia 2020-01-28              0"
            ]
          },
          "execution_count": 9,
          "metadata": {},
          "output_type": "execute_result"
        }
      ],
      "source": [
        "f1_1 = (df_covid['date'] >= ('2020-01-01'))\n",
        "f1_2 = (df_covid['date'] <= ('2020-01-31'))\n",
        "\n",
        "january = df_covid.loc[(f1_1 & f1_2), ['country', 'date', 'New Confirmed']]\n",
        "df_january = pd.DataFrame(january)\n",
        "df_january.head()\n"
      ]
    },
    {
      "cell_type": "code",
      "execution_count": 10,
      "metadata": {},
      "outputs": [
        {
          "data": {
            "text/html": [
              "<div>\n",
              "<style scoped>\n",
              "    .dataframe tbody tr th:only-of-type {\n",
              "        vertical-align: middle;\n",
              "    }\n",
              "\n",
              "    .dataframe tbody tr th {\n",
              "        vertical-align: top;\n",
              "    }\n",
              "\n",
              "    .dataframe thead th {\n",
              "        text-align: right;\n",
              "    }\n",
              "</style>\n",
              "<table border=\"1\" class=\"dataframe\">\n",
              "  <thead>\n",
              "    <tr style=\"text-align: right;\">\n",
              "      <th></th>\n",
              "      <th>country</th>\n",
              "      <th>date</th>\n",
              "      <th>New Confirmed</th>\n",
              "    </tr>\n",
              "  </thead>\n",
              "  <tbody>\n",
              "    <tr>\n",
              "      <th>880</th>\n",
              "      <td>china</td>\n",
              "      <td>2020-01-22</td>\n",
              "      <td>547</td>\n",
              "    </tr>\n",
              "    <tr>\n",
              "      <th>881</th>\n",
              "      <td>china</td>\n",
              "      <td>2020-01-23</td>\n",
              "      <td>92</td>\n",
              "    </tr>\n",
              "    <tr>\n",
              "      <th>882</th>\n",
              "      <td>china</td>\n",
              "      <td>2020-01-24</td>\n",
              "      <td>277</td>\n",
              "    </tr>\n",
              "    <tr>\n",
              "      <th>883</th>\n",
              "      <td>china</td>\n",
              "      <td>2020-01-25</td>\n",
              "      <td>483</td>\n",
              "    </tr>\n",
              "    <tr>\n",
              "      <th>884</th>\n",
              "      <td>china</td>\n",
              "      <td>2020-01-26</td>\n",
              "      <td>663</td>\n",
              "    </tr>\n",
              "  </tbody>\n",
              "</table>\n",
              "</div>"
            ],
            "text/plain": [
              "    country       date  New Confirmed\n",
              "880   china 2020-01-22            547\n",
              "881   china 2020-01-23             92\n",
              "882   china 2020-01-24            277\n",
              "883   china 2020-01-25            483\n",
              "884   china 2020-01-26            663"
            ]
          },
          "execution_count": 10,
          "metadata": {},
          "output_type": "execute_result"
        }
      ],
      "source": [
        "top10_january = df_january.loc[df_january['country'].isin(lista_country)]\n",
        "top10_january.head()"
      ]
    },
    {
      "cell_type": "code",
      "execution_count": 11,
      "metadata": {},
      "outputs": [
        {
          "data": {
            "text/plain": [
              "country\n",
              "china      9783\n",
              "france        5\n",
              "germany       5\n",
              "italy         2\n",
              "uk            2\n",
              "us            6\n",
              "Name: New Confirmed, dtype: int64"
            ]
          },
          "execution_count": 11,
          "metadata": {},
          "output_type": "execute_result"
        }
      ],
      "source": [
        "jan_cc = top10_january.groupby(\"country\")['New Confirmed'].sum()\n",
        "jan_cc"
      ]
    },
    {
      "attachments": {},
      "cell_type": "markdown",
      "metadata": {},
      "source": [
        "- **Filtrando FEVEREIRO.**"
      ]
    },
    {
      "cell_type": "code",
      "execution_count": 12,
      "metadata": {},
      "outputs": [
        {
          "data": {
            "text/html": [
              "<div>\n",
              "<style scoped>\n",
              "    .dataframe tbody tr th:only-of-type {\n",
              "        vertical-align: middle;\n",
              "    }\n",
              "\n",
              "    .dataframe tbody tr th {\n",
              "        vertical-align: top;\n",
              "    }\n",
              "\n",
              "    .dataframe thead th {\n",
              "        text-align: right;\n",
              "    }\n",
              "</style>\n",
              "<table border=\"1\" class=\"dataframe\">\n",
              "  <thead>\n",
              "    <tr style=\"text-align: right;\">\n",
              "      <th></th>\n",
              "      <th>country</th>\n",
              "      <th>date</th>\n",
              "      <th>New Confirmed</th>\n",
              "    </tr>\n",
              "  </thead>\n",
              "  <tbody>\n",
              "    <tr>\n",
              "      <th>0</th>\n",
              "      <td>azerbaijan</td>\n",
              "      <td>2020-02-28</td>\n",
              "      <td>0</td>\n",
              "    </tr>\n",
              "    <tr>\n",
              "      <th>2</th>\n",
              "      <td>afghanistan</td>\n",
              "      <td>2020-02-24</td>\n",
              "      <td>1</td>\n",
              "    </tr>\n",
              "    <tr>\n",
              "      <th>3</th>\n",
              "      <td>afghanistan</td>\n",
              "      <td>2020-02-25</td>\n",
              "      <td>0</td>\n",
              "    </tr>\n",
              "    <tr>\n",
              "      <th>4</th>\n",
              "      <td>afghanistan</td>\n",
              "      <td>2020-02-26</td>\n",
              "      <td>0</td>\n",
              "    </tr>\n",
              "    <tr>\n",
              "      <th>5</th>\n",
              "      <td>afghanistan</td>\n",
              "      <td>2020-02-27</td>\n",
              "      <td>0</td>\n",
              "    </tr>\n",
              "  </tbody>\n",
              "</table>\n",
              "</div>"
            ],
            "text/plain": [
              "       country       date  New Confirmed\n",
              "0   azerbaijan 2020-02-28              0\n",
              "2  afghanistan 2020-02-24              1\n",
              "3  afghanistan 2020-02-25              0\n",
              "4  afghanistan 2020-02-26              0\n",
              "5  afghanistan 2020-02-27              0"
            ]
          },
          "execution_count": 12,
          "metadata": {},
          "output_type": "execute_result"
        }
      ],
      "source": [
        "f2_1 = (df_covid['date'] >= ('2020-02-01'))\n",
        "f2_2 = (df_covid['date'] <= ('2020-02-29'))\n",
        "\n",
        "df_february = df_covid.loc[(f2_1 & f2_2), ['country', 'date', 'New Confirmed']]\n",
        "df_february.head()"
      ]
    },
    {
      "cell_type": "code",
      "execution_count": 13,
      "metadata": {},
      "outputs": [
        {
          "data": {
            "text/html": [
              "<div>\n",
              "<style scoped>\n",
              "    .dataframe tbody tr th:only-of-type {\n",
              "        vertical-align: middle;\n",
              "    }\n",
              "\n",
              "    .dataframe tbody tr th {\n",
              "        vertical-align: top;\n",
              "    }\n",
              "\n",
              "    .dataframe thead th {\n",
              "        text-align: right;\n",
              "    }\n",
              "</style>\n",
              "<table border=\"1\" class=\"dataframe\">\n",
              "  <thead>\n",
              "    <tr style=\"text-align: right;\">\n",
              "      <th></th>\n",
              "      <th>country</th>\n",
              "      <th>date</th>\n",
              "      <th>New Confirmed</th>\n",
              "    </tr>\n",
              "  </thead>\n",
              "  <tbody>\n",
              "    <tr>\n",
              "      <th>890</th>\n",
              "      <td>china</td>\n",
              "      <td>2020-02-01</td>\n",
              "      <td>2088</td>\n",
              "    </tr>\n",
              "    <tr>\n",
              "      <th>891</th>\n",
              "      <td>china</td>\n",
              "      <td>2020-02-02</td>\n",
              "      <td>4736</td>\n",
              "    </tr>\n",
              "    <tr>\n",
              "      <th>892</th>\n",
              "      <td>china</td>\n",
              "      <td>2020-02-03</td>\n",
              "      <td>3086</td>\n",
              "    </tr>\n",
              "    <tr>\n",
              "      <th>893</th>\n",
              "      <td>china</td>\n",
              "      <td>2020-02-04</td>\n",
              "      <td>3987</td>\n",
              "    </tr>\n",
              "    <tr>\n",
              "      <th>894</th>\n",
              "      <td>china</td>\n",
              "      <td>2020-02-05</td>\n",
              "      <td>3729</td>\n",
              "    </tr>\n",
              "  </tbody>\n",
              "</table>\n",
              "</div>"
            ],
            "text/plain": [
              "    country       date  New Confirmed\n",
              "890   china 2020-02-01           2088\n",
              "891   china 2020-02-02           4736\n",
              "892   china 2020-02-03           3086\n",
              "893   china 2020-02-04           3987\n",
              "894   china 2020-02-05           3729"
            ]
          },
          "execution_count": 13,
          "metadata": {},
          "output_type": "execute_result"
        }
      ],
      "source": [
        "top10_february = df_february.loc[df_february['country'].isin(lista_country)]\n",
        "top10_february.head()"
      ]
    },
    {
      "cell_type": "code",
      "execution_count": 14,
      "metadata": {},
      "outputs": [
        {
          "data": {
            "text/plain": [
              "country\n",
              "china          69468\n",
              "france            95\n",
              "germany           74\n",
              "iran             593\n",
              "italy           1126\n",
              "netherlands        6\n",
              "spain             45\n",
              "switzerland       18\n",
              "uk                21\n",
              "us                64\n",
              "Name: New Confirmed, dtype: int64"
            ]
          },
          "execution_count": 14,
          "metadata": {},
          "output_type": "execute_result"
        }
      ],
      "source": [
        "feb_cc = top10_february.groupby(\"country\")['New Confirmed'].sum()\n",
        "feb_cc"
      ]
    },
    {
      "attachments": {},
      "cell_type": "markdown",
      "metadata": {},
      "source": [
        "- **Filtrando MARÇO.**"
      ]
    },
    {
      "cell_type": "code",
      "execution_count": 15,
      "metadata": {},
      "outputs": [
        {
          "data": {
            "text/html": [
              "<div>\n",
              "<style scoped>\n",
              "    .dataframe tbody tr th:only-of-type {\n",
              "        vertical-align: middle;\n",
              "    }\n",
              "\n",
              "    .dataframe tbody tr th {\n",
              "        vertical-align: top;\n",
              "    }\n",
              "\n",
              "    .dataframe thead th {\n",
              "        text-align: right;\n",
              "    }\n",
              "</style>\n",
              "<table border=\"1\" class=\"dataframe\">\n",
              "  <thead>\n",
              "    <tr style=\"text-align: right;\">\n",
              "      <th></th>\n",
              "      <th>country</th>\n",
              "      <th>date</th>\n",
              "      <th>New Confirmed</th>\n",
              "    </tr>\n",
              "  </thead>\n",
              "  <tbody>\n",
              "    <tr>\n",
              "      <th>1</th>\n",
              "      <td>('st. martin',)</td>\n",
              "      <td>2020-03-10</td>\n",
              "      <td>2</td>\n",
              "    </tr>\n",
              "    <tr>\n",
              "      <th>8</th>\n",
              "      <td>afghanistan</td>\n",
              "      <td>2020-03-01</td>\n",
              "      <td>0</td>\n",
              "    </tr>\n",
              "    <tr>\n",
              "      <th>9</th>\n",
              "      <td>afghanistan</td>\n",
              "      <td>2020-03-02</td>\n",
              "      <td>0</td>\n",
              "    </tr>\n",
              "    <tr>\n",
              "      <th>10</th>\n",
              "      <td>afghanistan</td>\n",
              "      <td>2020-03-03</td>\n",
              "      <td>0</td>\n",
              "    </tr>\n",
              "    <tr>\n",
              "      <th>11</th>\n",
              "      <td>afghanistan</td>\n",
              "      <td>2020-03-04</td>\n",
              "      <td>0</td>\n",
              "    </tr>\n",
              "  </tbody>\n",
              "</table>\n",
              "</div>"
            ],
            "text/plain": [
              "            country       date  New Confirmed\n",
              "1   ('st. martin',) 2020-03-10              2\n",
              "8       afghanistan 2020-03-01              0\n",
              "9       afghanistan 2020-03-02              0\n",
              "10      afghanistan 2020-03-03              0\n",
              "11      afghanistan 2020-03-04              0"
            ]
          },
          "execution_count": 15,
          "metadata": {},
          "output_type": "execute_result"
        }
      ],
      "source": [
        "f3_1 = (df_covid['date'] >= ('2020-03-01'))\n",
        "f3_2 = (df_covid['date'] <= ('2020-03-31'))\n",
        "\n",
        "df_march = df_covid.loc[(f3_1 & f3_2), ['country', 'date', 'New Confirmed']]\n",
        "df_march.head()"
      ]
    },
    {
      "cell_type": "code",
      "execution_count": 16,
      "metadata": {},
      "outputs": [
        {
          "data": {
            "text/html": [
              "<div>\n",
              "<style scoped>\n",
              "    .dataframe tbody tr th:only-of-type {\n",
              "        vertical-align: middle;\n",
              "    }\n",
              "\n",
              "    .dataframe tbody tr th {\n",
              "        vertical-align: top;\n",
              "    }\n",
              "\n",
              "    .dataframe thead th {\n",
              "        text-align: right;\n",
              "    }\n",
              "</style>\n",
              "<table border=\"1\" class=\"dataframe\">\n",
              "  <thead>\n",
              "    <tr style=\"text-align: right;\">\n",
              "      <th></th>\n",
              "      <th>country</th>\n",
              "      <th>date</th>\n",
              "      <th>New Confirmed</th>\n",
              "    </tr>\n",
              "  </thead>\n",
              "  <tbody>\n",
              "    <tr>\n",
              "      <th>919</th>\n",
              "      <td>china</td>\n",
              "      <td>2020-03-01</td>\n",
              "      <td>575</td>\n",
              "    </tr>\n",
              "    <tr>\n",
              "      <th>920</th>\n",
              "      <td>china</td>\n",
              "      <td>2020-03-02</td>\n",
              "      <td>200</td>\n",
              "    </tr>\n",
              "    <tr>\n",
              "      <th>921</th>\n",
              "      <td>china</td>\n",
              "      <td>2020-03-03</td>\n",
              "      <td>125</td>\n",
              "    </tr>\n",
              "    <tr>\n",
              "      <th>922</th>\n",
              "      <td>china</td>\n",
              "      <td>2020-03-04</td>\n",
              "      <td>120</td>\n",
              "    </tr>\n",
              "    <tr>\n",
              "      <th>923</th>\n",
              "      <td>china</td>\n",
              "      <td>2020-03-05</td>\n",
              "      <td>151</td>\n",
              "    </tr>\n",
              "  </tbody>\n",
              "</table>\n",
              "</div>"
            ],
            "text/plain": [
              "    country       date  New Confirmed\n",
              "919   china 2020-03-01            575\n",
              "920   china 2020-03-02            200\n",
              "921   china 2020-03-03            125\n",
              "922   china 2020-03-04            120\n",
              "923   china 2020-03-05            151"
            ]
          },
          "execution_count": 16,
          "metadata": {},
          "output_type": "execute_result"
        }
      ],
      "source": [
        "top10_march = df_march.loc[df_march['country'].isin(lista_country)]\n",
        "top10_march.head()"
      ]
    },
    {
      "cell_type": "code",
      "execution_count": 17,
      "metadata": {},
      "outputs": [
        {
          "data": {
            "text/plain": [
              "country\n",
              "china            2150\n",
              "france          38005\n",
              "germany         57616\n",
              "iran            34815\n",
              "italy           91344\n",
              "netherlands      9813\n",
              "spain           73190\n",
              "switzerland     14058\n",
              "uk              17289\n",
              "us             121408\n",
              "Name: New Confirmed, dtype: int64"
            ]
          },
          "execution_count": 17,
          "metadata": {},
          "output_type": "execute_result"
        }
      ],
      "source": [
        "mar_cc = top10_march.groupby(\"country\")['New Confirmed'].sum()\n",
        "mar_cc"
      ]
    },
    {
      "cell_type": "code",
      "execution_count": 18,
      "metadata": {},
      "outputs": [
        {
          "data": {
            "text/plain": [
              "<matplotlib.legend.Legend at 0x1d3f5425300>"
            ]
          },
          "execution_count": 18,
          "metadata": {},
          "output_type": "execute_result"
        },
        {
          "data": {
            "image/png": "[encoded data removed]",
            "text/plain": [
              "<Figure size 640x480 with 1 Axes>"
            ]
          },
          "metadata": {},
          "output_type": "display_data"
        }
      ],
      "source": [
        "\n",
        "df_covid_final = pd.DataFrame({'2020-jan': jan_cc,\n",
        "                               '2020-feb': feb_cc,\n",
        "                               '2020-mar': mar_cc}, \n",
        "                              index=lista_country,)\n",
        "\n",
        "ax = df_covid_final.plot.barh(ylabel='country', stacked=True)\n",
        "\n",
        "plt.legend(title= 'reference_month')"
      ]
    },
    {
      "attachments": {
        "image.png": {
          "image/png": "[encoded data removed]"
        }
      },
      "cell_type": "markdown",
      "metadata": {},
      "source": [
        "![image.png](attachment:image.png)"
      ]
    },
    {
      "cell_type": "markdown",
      "metadata": {
        "id": "l-4onLAhRerS"
      },
      "source": [
        "Para os exercícios abaixo, vamos trabalhar com um dataset de [emissão de CO2 por país, ao longo do tempo](https://www.kaggle.com/datasets/ulrikthygepedersen/co2-emissions-by-country)."
      ]
    },
    {
      "cell_type": "markdown",
      "metadata": {
        "id": "QogRNevyRerS"
      },
      "source": [
        "**Exercício 2.** Reproduza o gráfico de linhas abaixo, que representa a série temporal da evolução de emissões de CO2 no Brasil."
      ]
    },
    {
      "cell_type": "code",
      "execution_count": 19,
      "metadata": {},
      "outputs": [],
      "source": [
        "import pandas as pd"
      ]
    },
    {
      "cell_type": "code",
      "execution_count": 20,
      "metadata": {},
      "outputs": [
        {
          "data": {
            "text/html": [
              "<div>\n",
              "<style scoped>\n",
              "    .dataframe tbody tr th:only-of-type {\n",
              "        vertical-align: middle;\n",
              "    }\n",
              "\n",
              "    .dataframe tbody tr th {\n",
              "        vertical-align: top;\n",
              "    }\n",
              "\n",
              "    .dataframe thead th {\n",
              "        text-align: right;\n",
              "    }\n",
              "</style>\n",
              "<table border=\"1\" class=\"dataframe\">\n",
              "  <thead>\n",
              "    <tr style=\"text-align: right;\">\n",
              "      <th></th>\n",
              "      <th>country_code</th>\n",
              "      <th>country_name</th>\n",
              "      <th>year</th>\n",
              "      <th>value</th>\n",
              "    </tr>\n",
              "  </thead>\n",
              "  <tbody>\n",
              "    <tr>\n",
              "      <th>0</th>\n",
              "      <td>ABW</td>\n",
              "      <td>Aruba</td>\n",
              "      <td>1960</td>\n",
              "      <td>11092.675</td>\n",
              "    </tr>\n",
              "    <tr>\n",
              "      <th>1</th>\n",
              "      <td>ABW</td>\n",
              "      <td>Aruba</td>\n",
              "      <td>1961</td>\n",
              "      <td>11576.719</td>\n",
              "    </tr>\n",
              "    <tr>\n",
              "      <th>2</th>\n",
              "      <td>ABW</td>\n",
              "      <td>Aruba</td>\n",
              "      <td>1962</td>\n",
              "      <td>12713.489</td>\n",
              "    </tr>\n",
              "    <tr>\n",
              "      <th>3</th>\n",
              "      <td>ABW</td>\n",
              "      <td>Aruba</td>\n",
              "      <td>1963</td>\n",
              "      <td>12178.107</td>\n",
              "    </tr>\n",
              "    <tr>\n",
              "      <th>4</th>\n",
              "      <td>ABW</td>\n",
              "      <td>Aruba</td>\n",
              "      <td>1964</td>\n",
              "      <td>11840.743</td>\n",
              "    </tr>\n",
              "  </tbody>\n",
              "</table>\n",
              "</div>"
            ],
            "text/plain": [
              "  country_code country_name  year      value\n",
              "0          ABW        Aruba  1960  11092.675\n",
              "1          ABW        Aruba  1961  11576.719\n",
              "2          ABW        Aruba  1962  12713.489\n",
              "3          ABW        Aruba  1963  12178.107\n",
              "4          ABW        Aruba  1964  11840.743"
            ]
          },
          "execution_count": 20,
          "metadata": {},
          "output_type": "execute_result"
        }
      ],
      "source": [
        "df_emissao = pd.read_csv('co2_emissions_kt_by_country.csv')\n",
        "df_emissao.head()"
      ]
    },
    {
      "attachments": {},
      "cell_type": "markdown",
      "metadata": {},
      "source": [
        "**Filtrar pais solicitado (Brasil)**"
      ]
    },
    {
      "cell_type": "code",
      "execution_count": 21,
      "metadata": {},
      "outputs": [
        {
          "data": {
            "text/html": [
              "<div>\n",
              "<style scoped>\n",
              "    .dataframe tbody tr th:only-of-type {\n",
              "        vertical-align: middle;\n",
              "    }\n",
              "\n",
              "    .dataframe tbody tr th {\n",
              "        vertical-align: top;\n",
              "    }\n",
              "\n",
              "    .dataframe thead th {\n",
              "        text-align: right;\n",
              "    }\n",
              "</style>\n",
              "<table border=\"1\" class=\"dataframe\">\n",
              "  <thead>\n",
              "    <tr style=\"text-align: right;\">\n",
              "      <th></th>\n",
              "      <th>country_code</th>\n",
              "      <th>country_name</th>\n",
              "      <th>year</th>\n",
              "      <th>value</th>\n",
              "    </tr>\n",
              "  </thead>\n",
              "  <tbody>\n",
              "    <tr>\n",
              "      <th>1522</th>\n",
              "      <td>BRA</td>\n",
              "      <td>Brazil</td>\n",
              "      <td>1960</td>\n",
              "      <td>46908.264</td>\n",
              "    </tr>\n",
              "    <tr>\n",
              "      <th>1523</th>\n",
              "      <td>BRA</td>\n",
              "      <td>Brazil</td>\n",
              "      <td>1961</td>\n",
              "      <td>49203.806</td>\n",
              "    </tr>\n",
              "    <tr>\n",
              "      <th>1524</th>\n",
              "      <td>BRA</td>\n",
              "      <td>Brazil</td>\n",
              "      <td>1962</td>\n",
              "      <td>53695.881</td>\n",
              "    </tr>\n",
              "    <tr>\n",
              "      <th>1525</th>\n",
              "      <td>BRA</td>\n",
              "      <td>Brazil</td>\n",
              "      <td>1963</td>\n",
              "      <td>55617.389</td>\n",
              "    </tr>\n",
              "    <tr>\n",
              "      <th>1526</th>\n",
              "      <td>BRA</td>\n",
              "      <td>Brazil</td>\n",
              "      <td>1964</td>\n",
              "      <td>56735.824</td>\n",
              "    </tr>\n",
              "  </tbody>\n",
              "</table>\n",
              "</div>"
            ],
            "text/plain": [
              "     country_code country_name  year      value\n",
              "1522          BRA       Brazil  1960  46908.264\n",
              "1523          BRA       Brazil  1961  49203.806\n",
              "1524          BRA       Brazil  1962  53695.881\n",
              "1525          BRA       Brazil  1963  55617.389\n",
              "1526          BRA       Brazil  1964  56735.824"
            ]
          },
          "execution_count": 21,
          "metadata": {},
          "output_type": "execute_result"
        }
      ],
      "source": [
        "df_brazil = df_emissao[df_emissao['country_name'] == 'Brazil']\n",
        "df_brazil.head()"
      ]
    },
    {
      "cell_type": "code",
      "execution_count": 22,
      "metadata": {},
      "outputs": [
        {
          "name": "stderr",
          "output_type": "stream",
          "text": [
            "C:\\Users\\User\\AppData\\Local\\Temp\\ipykernel_4776\\1139522917.py:1: SettingWithCopyWarning: \n",
            "A value is trying to be set on a copy of a slice from a DataFrame\n",
            "\n",
            "See the caveats in the documentation: https://pandas.pydata.org/pandas-docs/stable/user_guide/indexing.html#returning-a-view-versus-a-copy\n",
            "  df_brazil.rename(columns={\"value\": \"Brasil\"}, inplace=True)\n"
          ]
        }
      ],
      "source": [
        "df_brazil.rename(columns={\"value\": \"Brasil\"}, inplace=True)"
      ]
    },
    {
      "cell_type": "code",
      "execution_count": 23,
      "metadata": {},
      "outputs": [
        {
          "data": {
            "text/plain": [
              "<AxesSubplot: title={'center': 'Histórico de emissões de CO2 no Brasil'}, xlabel='Ano'>"
            ]
          },
          "execution_count": 23,
          "metadata": {},
          "output_type": "execute_result"
        },
        {
          "data": {
            "image/png": "[encoded data removed]",
            "text/plain": [
              "<Figure size 640x480 with 1 Axes>"
            ]
          },
          "metadata": {},
          "output_type": "display_data"
        }
      ],
      "source": [
        "df_brazil.plot(x = 'year',\n",
        "               y = 'Brasil',\n",
        "               xlabel= 'Ano',\n",
        "               title = 'Histórico de emissões de CO2 no Brasil',\n",
        "               legend = False)"
      ]
    },
    {
      "attachments": {
        "image.png": {
          "image/png": "[encoded data removed]"
        }
      },
      "cell_type": "markdown",
      "metadata": {},
      "source": [
        "![image.png](attachment:image.png)"
      ]
    },
    {
      "cell_type": "markdown",
      "metadata": {
        "id": "VnEBoQrFRerU"
      },
      "source": [
        "**Exercício 3**. Uma visualização muito similar à anterior, mas com a adição da média global de emissão de CO2 (o Brasil deve ser incluído na linha da média global?)."
      ]
    },
    {
      "cell_type": "code",
      "execution_count": 24,
      "metadata": {
        "id": "A1lyJVXPRerU",
        "outputId": "67de9c35-6742-45b4-ed35-0841652610bd"
      },
      "outputs": [],
      "source": [
        "import pandas as pd"
      ]
    },
    {
      "cell_type": "code",
      "execution_count": 25,
      "metadata": {},
      "outputs": [
        {
          "data": {
            "text/html": [
              "<div>\n",
              "<style scoped>\n",
              "    .dataframe tbody tr th:only-of-type {\n",
              "        vertical-align: middle;\n",
              "    }\n",
              "\n",
              "    .dataframe tbody tr th {\n",
              "        vertical-align: top;\n",
              "    }\n",
              "\n",
              "    .dataframe thead th {\n",
              "        text-align: right;\n",
              "    }\n",
              "</style>\n",
              "<table border=\"1\" class=\"dataframe\">\n",
              "  <thead>\n",
              "    <tr style=\"text-align: right;\">\n",
              "      <th></th>\n",
              "      <th>country_code</th>\n",
              "      <th>country_name</th>\n",
              "      <th>year</th>\n",
              "      <th>value</th>\n",
              "    </tr>\n",
              "  </thead>\n",
              "  <tbody>\n",
              "    <tr>\n",
              "      <th>0</th>\n",
              "      <td>ABW</td>\n",
              "      <td>Aruba</td>\n",
              "      <td>1960</td>\n",
              "      <td>11092.675</td>\n",
              "    </tr>\n",
              "    <tr>\n",
              "      <th>1</th>\n",
              "      <td>ABW</td>\n",
              "      <td>Aruba</td>\n",
              "      <td>1961</td>\n",
              "      <td>11576.719</td>\n",
              "    </tr>\n",
              "    <tr>\n",
              "      <th>2</th>\n",
              "      <td>ABW</td>\n",
              "      <td>Aruba</td>\n",
              "      <td>1962</td>\n",
              "      <td>12713.489</td>\n",
              "    </tr>\n",
              "    <tr>\n",
              "      <th>3</th>\n",
              "      <td>ABW</td>\n",
              "      <td>Aruba</td>\n",
              "      <td>1963</td>\n",
              "      <td>12178.107</td>\n",
              "    </tr>\n",
              "    <tr>\n",
              "      <th>4</th>\n",
              "      <td>ABW</td>\n",
              "      <td>Aruba</td>\n",
              "      <td>1964</td>\n",
              "      <td>11840.743</td>\n",
              "    </tr>\n",
              "  </tbody>\n",
              "</table>\n",
              "</div>"
            ],
            "text/plain": [
              "  country_code country_name  year      value\n",
              "0          ABW        Aruba  1960  11092.675\n",
              "1          ABW        Aruba  1961  11576.719\n",
              "2          ABW        Aruba  1962  12713.489\n",
              "3          ABW        Aruba  1963  12178.107\n",
              "4          ABW        Aruba  1964  11840.743"
            ]
          },
          "execution_count": 25,
          "metadata": {},
          "output_type": "execute_result"
        }
      ],
      "source": [
        "df_emissao.head()"
      ]
    },
    {
      "attachments": {},
      "cell_type": "markdown",
      "metadata": {},
      "source": [
        "- Avaliar a Média Global"
      ]
    },
    {
      "cell_type": "code",
      "execution_count": 26,
      "metadata": {},
      "outputs": [
        {
          "data": {
            "text/html": [
              "<div>\n",
              "<style scoped>\n",
              "    .dataframe tbody tr th:only-of-type {\n",
              "        vertical-align: middle;\n",
              "    }\n",
              "\n",
              "    .dataframe tbody tr th {\n",
              "        vertical-align: top;\n",
              "    }\n",
              "\n",
              "    .dataframe thead th {\n",
              "        text-align: right;\n",
              "    }\n",
              "</style>\n",
              "<table border=\"1\" class=\"dataframe\">\n",
              "  <thead>\n",
              "    <tr style=\"text-align: right;\">\n",
              "      <th></th>\n",
              "      <th>year</th>\n",
              "      <th>value</th>\n",
              "    </tr>\n",
              "  </thead>\n",
              "  <tbody>\n",
              "    <tr>\n",
              "      <th>0</th>\n",
              "      <td>1960</td>\n",
              "      <td>379506.414474</td>\n",
              "    </tr>\n",
              "    <tr>\n",
              "      <th>1</th>\n",
              "      <td>1961</td>\n",
              "      <td>374035.311824</td>\n",
              "    </tr>\n",
              "    <tr>\n",
              "      <th>2</th>\n",
              "      <td>1962</td>\n",
              "      <td>381505.006340</td>\n",
              "    </tr>\n",
              "    <tr>\n",
              "      <th>3</th>\n",
              "      <td>1963</td>\n",
              "      <td>401537.009382</td>\n",
              "    </tr>\n",
              "    <tr>\n",
              "      <th>4</th>\n",
              "      <td>1964</td>\n",
              "      <td>411765.541760</td>\n",
              "    </tr>\n",
              "  </tbody>\n",
              "</table>\n",
              "</div>"
            ],
            "text/plain": [
              "   year          value\n",
              "0  1960  379506.414474\n",
              "1  1961  374035.311824\n",
              "2  1962  381505.006340\n",
              "3  1963  401537.009382\n",
              "4  1964  411765.541760"
            ]
          },
          "execution_count": 26,
          "metadata": {},
          "output_type": "execute_result"
        }
      ],
      "source": [
        "df_global = df_emissao.groupby(\"year\")[['value']].mean().reset_index()\n",
        "df_global.head()"
      ]
    },
    {
      "attachments": {},
      "cell_type": "markdown",
      "metadata": {},
      "source": [
        "- Transformando a coluna Value em lista para adicioná-la ao Data Frame e assim conseguir colocar a legenda da forma correta."
      ]
    },
    {
      "cell_type": "code",
      "execution_count": 27,
      "metadata": {},
      "outputs": [],
      "source": [
        "media_global = df_global['value'].tolist()\n"
      ]
    },
    {
      "cell_type": "code",
      "execution_count": 28,
      "metadata": {},
      "outputs": [],
      "source": [
        "df_global['Média Global'] = media_global"
      ]
    },
    {
      "cell_type": "code",
      "execution_count": 29,
      "metadata": {},
      "outputs": [
        {
          "data": {
            "text/plain": [
              "<AxesSubplot: title={'center': 'Histórico de Emissões de CO2 Media Global x Brasil'}, xlabel='Ano'>"
            ]
          },
          "execution_count": 29,
          "metadata": {},
          "output_type": "execute_result"
        },
        {
          "data": {
            "image/png": "[encoded data removed]",
            "text/plain": [
              "<Figure size 640x480 with 1 Axes>"
            ]
          },
          "metadata": {},
          "output_type": "display_data"
        }
      ],
      "source": [
        "# Guardar o retorno do primeiro plot\n",
        "ax = df_global.plot(kind = 'line', \n",
        "                    x = 'year', \n",
        "                    y = 'Média Global')\n",
        "\n",
        "# Usar o retorno para especificar os eixos do segundo plot\n",
        "df_brazil.plot(kind = 'line', \n",
        "               x = 'year', \n",
        "               y = 'Brasil', \n",
        "               ax = ax,\n",
        "               xlabel='Ano',\n",
        "               title='Histórico de Emissões de CO2 Media Global x Brasil')"
      ]
    },
    {
      "attachments": {
        "image.png": {
          "image/png": "[encoded data removed]"
        }
      },
      "cell_type": "markdown",
      "metadata": {},
      "source": [
        "![image.png](attachment:image.png)"
      ]
    },
    {
      "cell_type": "markdown",
      "metadata": {
        "id": "9iixpnErRerU"
      },
      "source": [
        "**Exercício 4.** Os 10 países que mais aumentaram, percentualmente, a emissão de CO2 entre os anos de 2018 e 2019, na forma de um gráfico de barras horizontal."
      ]
    },
    {
      "cell_type": "code",
      "execution_count": 30,
      "metadata": {},
      "outputs": [
        {
          "data": {
            "text/html": [
              "<div>\n",
              "<style scoped>\n",
              "    .dataframe tbody tr th:only-of-type {\n",
              "        vertical-align: middle;\n",
              "    }\n",
              "\n",
              "    .dataframe tbody tr th {\n",
              "        vertical-align: top;\n",
              "    }\n",
              "\n",
              "    .dataframe thead th {\n",
              "        text-align: right;\n",
              "    }\n",
              "</style>\n",
              "<table border=\"1\" class=\"dataframe\">\n",
              "  <thead>\n",
              "    <tr style=\"text-align: right;\">\n",
              "      <th></th>\n",
              "      <th>country_code</th>\n",
              "      <th>country_name</th>\n",
              "      <th>year</th>\n",
              "      <th>value</th>\n",
              "    </tr>\n",
              "  </thead>\n",
              "  <tbody>\n",
              "    <tr>\n",
              "      <th>0</th>\n",
              "      <td>ABW</td>\n",
              "      <td>Aruba</td>\n",
              "      <td>1960</td>\n",
              "      <td>11092.675</td>\n",
              "    </tr>\n",
              "    <tr>\n",
              "      <th>1</th>\n",
              "      <td>ABW</td>\n",
              "      <td>Aruba</td>\n",
              "      <td>1961</td>\n",
              "      <td>11576.719</td>\n",
              "    </tr>\n",
              "    <tr>\n",
              "      <th>2</th>\n",
              "      <td>ABW</td>\n",
              "      <td>Aruba</td>\n",
              "      <td>1962</td>\n",
              "      <td>12713.489</td>\n",
              "    </tr>\n",
              "    <tr>\n",
              "      <th>3</th>\n",
              "      <td>ABW</td>\n",
              "      <td>Aruba</td>\n",
              "      <td>1963</td>\n",
              "      <td>12178.107</td>\n",
              "    </tr>\n",
              "    <tr>\n",
              "      <th>4</th>\n",
              "      <td>ABW</td>\n",
              "      <td>Aruba</td>\n",
              "      <td>1964</td>\n",
              "      <td>11840.743</td>\n",
              "    </tr>\n",
              "  </tbody>\n",
              "</table>\n",
              "</div>"
            ],
            "text/plain": [
              "  country_code country_name  year      value\n",
              "0          ABW        Aruba  1960  11092.675\n",
              "1          ABW        Aruba  1961  11576.719\n",
              "2          ABW        Aruba  1962  12713.489\n",
              "3          ABW        Aruba  1963  12178.107\n",
              "4          ABW        Aruba  1964  11840.743"
            ]
          },
          "execution_count": 30,
          "metadata": {},
          "output_type": "execute_result"
        }
      ],
      "source": [
        "df_emissao.head()"
      ]
    },
    {
      "cell_type": "code",
      "execution_count": 31,
      "metadata": {},
      "outputs": [
        {
          "data": {
            "text/html": [
              "<div>\n",
              "<style scoped>\n",
              "    .dataframe tbody tr th:only-of-type {\n",
              "        vertical-align: middle;\n",
              "    }\n",
              "\n",
              "    .dataframe tbody tr th {\n",
              "        vertical-align: top;\n",
              "    }\n",
              "\n",
              "    .dataframe thead th {\n",
              "        text-align: right;\n",
              "    }\n",
              "</style>\n",
              "<table border=\"1\" class=\"dataframe\">\n",
              "  <thead>\n",
              "    <tr style=\"text-align: right;\">\n",
              "      <th></th>\n",
              "      <th>country_name</th>\n",
              "      <th>year</th>\n",
              "      <th>value2018</th>\n",
              "    </tr>\n",
              "  </thead>\n",
              "  <tbody>\n",
              "    <tr>\n",
              "      <th>12937</th>\n",
              "      <td>Tuvalu</td>\n",
              "      <td>2018</td>\n",
              "      <td>1.000000e+01</td>\n",
              "    </tr>\n",
              "    <tr>\n",
              "      <th>9472</th>\n",
              "      <td>Nauru</td>\n",
              "      <td>2018</td>\n",
              "      <td>6.000000e+01</td>\n",
              "    </tr>\n",
              "    <tr>\n",
              "      <th>6647</th>\n",
              "      <td>Kiribati</td>\n",
              "      <td>2018</td>\n",
              "      <td>9.000000e+01</td>\n",
              "    </tr>\n",
              "    <tr>\n",
              "      <th>11652</th>\n",
              "      <td>Sao Tome and Principe</td>\n",
              "      <td>2018</td>\n",
              "      <td>1.400000e+02</td>\n",
              "    </tr>\n",
              "    <tr>\n",
              "      <th>7397</th>\n",
              "      <td>Liechtenstein</td>\n",
              "      <td>2018</td>\n",
              "      <td>1.400000e+02</td>\n",
              "    </tr>\n",
              "    <tr>\n",
              "      <th>...</th>\n",
              "      <td>...</td>\n",
              "      <td>...</td>\n",
              "      <td>...</td>\n",
              "    </tr>\n",
              "    <tr>\n",
              "      <th>5508</th>\n",
              "      <td>IBRD only</td>\n",
              "      <td>2018</td>\n",
              "      <td>2.119031e+07</td>\n",
              "    </tr>\n",
              "    <tr>\n",
              "      <th>8253</th>\n",
              "      <td>Middle income</td>\n",
              "      <td>2018</td>\n",
              "      <td>2.131934e+07</td>\n",
              "    </tr>\n",
              "    <tr>\n",
              "      <th>7577</th>\n",
              "      <td>Low &amp; middle income</td>\n",
              "      <td>2018</td>\n",
              "      <td>2.150789e+07</td>\n",
              "    </tr>\n",
              "    <tr>\n",
              "      <th>5568</th>\n",
              "      <td>IDA &amp; IBRD total</td>\n",
              "      <td>2018</td>\n",
              "      <td>2.207611e+07</td>\n",
              "    </tr>\n",
              "    <tr>\n",
              "      <th>13650</th>\n",
              "      <td>World</td>\n",
              "      <td>2018</td>\n",
              "      <td>3.428935e+07</td>\n",
              "    </tr>\n",
              "  </tbody>\n",
              "</table>\n",
              "<p>239 rows × 3 columns</p>\n",
              "</div>"
            ],
            "text/plain": [
              "                country_name  year     value2018\n",
              "12937                 Tuvalu  2018  1.000000e+01\n",
              "9472                   Nauru  2018  6.000000e+01\n",
              "6647                Kiribati  2018  9.000000e+01\n",
              "11652  Sao Tome and Principe  2018  1.400000e+02\n",
              "7397           Liechtenstein  2018  1.400000e+02\n",
              "...                      ...   ...           ...\n",
              "5508               IBRD only  2018  2.119031e+07\n",
              "8253           Middle income  2018  2.131934e+07\n",
              "7577     Low & middle income  2018  2.150789e+07\n",
              "5568        IDA & IBRD total  2018  2.207611e+07\n",
              "13650                  World  2018  3.428935e+07\n",
              "\n",
              "[239 rows x 3 columns]"
            ]
          },
          "execution_count": 31,
          "metadata": {},
          "output_type": "execute_result"
        }
      ],
      "source": [
        "df_2018 = df_emissao[['country_name', 'year', 'value']][df_emissao['year'].isin([2018])].sort_values(by='value')\n",
        "df_2018.columns = ['country_name', 'year', 'value2018']\n",
        "df_2018"
      ]
    },
    {
      "cell_type": "code",
      "execution_count": 32,
      "metadata": {
        "id": "kqrkmrw1RerU",
        "outputId": "9f916fa0-36d9-4eb5-c0d4-77cdaed4aea4"
      },
      "outputs": [
        {
          "data": {
            "text/html": [
              "<div>\n",
              "<style scoped>\n",
              "    .dataframe tbody tr th:only-of-type {\n",
              "        vertical-align: middle;\n",
              "    }\n",
              "\n",
              "    .dataframe tbody tr th {\n",
              "        vertical-align: top;\n",
              "    }\n",
              "\n",
              "    .dataframe thead th {\n",
              "        text-align: right;\n",
              "    }\n",
              "</style>\n",
              "<table border=\"1\" class=\"dataframe\">\n",
              "  <thead>\n",
              "    <tr style=\"text-align: right;\">\n",
              "      <th></th>\n",
              "      <th>country_name</th>\n",
              "      <th>year</th>\n",
              "      <th>value2019</th>\n",
              "    </tr>\n",
              "  </thead>\n",
              "  <tbody>\n",
              "    <tr>\n",
              "      <th>12938</th>\n",
              "      <td>Tuvalu</td>\n",
              "      <td>2019</td>\n",
              "      <td>1.000000e+01</td>\n",
              "    </tr>\n",
              "    <tr>\n",
              "      <th>9473</th>\n",
              "      <td>Nauru</td>\n",
              "      <td>2019</td>\n",
              "      <td>6.000000e+01</td>\n",
              "    </tr>\n",
              "    <tr>\n",
              "      <th>6648</th>\n",
              "      <td>Kiribati</td>\n",
              "      <td>2019</td>\n",
              "      <td>9.000000e+01</td>\n",
              "    </tr>\n",
              "    <tr>\n",
              "      <th>7398</th>\n",
              "      <td>Liechtenstein</td>\n",
              "      <td>2019</td>\n",
              "      <td>1.500000e+02</td>\n",
              "    </tr>\n",
              "    <tr>\n",
              "      <th>11653</th>\n",
              "      <td>Sao Tome and Principe</td>\n",
              "      <td>2019</td>\n",
              "      <td>1.500000e+02</td>\n",
              "    </tr>\n",
              "    <tr>\n",
              "      <th>...</th>\n",
              "      <td>...</td>\n",
              "      <td>...</td>\n",
              "      <td>...</td>\n",
              "    </tr>\n",
              "    <tr>\n",
              "      <th>5509</th>\n",
              "      <td>IBRD only</td>\n",
              "      <td>2019</td>\n",
              "      <td>2.152242e+07</td>\n",
              "    </tr>\n",
              "    <tr>\n",
              "      <th>8254</th>\n",
              "      <td>Middle income</td>\n",
              "      <td>2019</td>\n",
              "      <td>2.171260e+07</td>\n",
              "    </tr>\n",
              "    <tr>\n",
              "      <th>7578</th>\n",
              "      <td>Low &amp; middle income</td>\n",
              "      <td>2019</td>\n",
              "      <td>2.190943e+07</td>\n",
              "    </tr>\n",
              "    <tr>\n",
              "      <th>5569</th>\n",
              "      <td>IDA &amp; IBRD total</td>\n",
              "      <td>2019</td>\n",
              "      <td>2.244242e+07</td>\n",
              "    </tr>\n",
              "    <tr>\n",
              "      <th>13651</th>\n",
              "      <td>World</td>\n",
              "      <td>2019</td>\n",
              "      <td>3.434401e+07</td>\n",
              "    </tr>\n",
              "  </tbody>\n",
              "</table>\n",
              "<p>239 rows × 3 columns</p>\n",
              "</div>"
            ],
            "text/plain": [
              "                country_name  year     value2019\n",
              "12938                 Tuvalu  2019  1.000000e+01\n",
              "9473                   Nauru  2019  6.000000e+01\n",
              "6648                Kiribati  2019  9.000000e+01\n",
              "7398           Liechtenstein  2019  1.500000e+02\n",
              "11653  Sao Tome and Principe  2019  1.500000e+02\n",
              "...                      ...   ...           ...\n",
              "5509               IBRD only  2019  2.152242e+07\n",
              "8254           Middle income  2019  2.171260e+07\n",
              "7578     Low & middle income  2019  2.190943e+07\n",
              "5569        IDA & IBRD total  2019  2.244242e+07\n",
              "13651                  World  2019  3.434401e+07\n",
              "\n",
              "[239 rows x 3 columns]"
            ]
          },
          "execution_count": 32,
          "metadata": {},
          "output_type": "execute_result"
        }
      ],
      "source": [
        "df_2019 = df_emissao[['country_name', 'year', 'value']][df_emissao['year'].isin([2019])].sort_values(by='value')\n",
        "df_2019.columns = ['country_name', 'year', 'value2019']\n",
        "df_2019"
      ]
    },
    {
      "cell_type": "code",
      "execution_count": 33,
      "metadata": {},
      "outputs": [
        {
          "data": {
            "text/html": [
              "<div>\n",
              "<style scoped>\n",
              "    .dataframe tbody tr th:only-of-type {\n",
              "        vertical-align: middle;\n",
              "    }\n",
              "\n",
              "    .dataframe tbody tr th {\n",
              "        vertical-align: top;\n",
              "    }\n",
              "\n",
              "    .dataframe thead th {\n",
              "        text-align: right;\n",
              "    }\n",
              "</style>\n",
              "<table border=\"1\" class=\"dataframe\">\n",
              "  <thead>\n",
              "    <tr style=\"text-align: right;\">\n",
              "      <th></th>\n",
              "      <th>country_name</th>\n",
              "      <th>year</th>\n",
              "      <th>value2018</th>\n",
              "      <th>value2019</th>\n",
              "    </tr>\n",
              "  </thead>\n",
              "  <tbody>\n",
              "    <tr>\n",
              "      <th>0</th>\n",
              "      <td>Tuvalu</td>\n",
              "      <td>2018</td>\n",
              "      <td>1.000000e+01</td>\n",
              "      <td>1.000000e+01</td>\n",
              "    </tr>\n",
              "    <tr>\n",
              "      <th>1</th>\n",
              "      <td>Nauru</td>\n",
              "      <td>2018</td>\n",
              "      <td>6.000000e+01</td>\n",
              "      <td>6.000000e+01</td>\n",
              "    </tr>\n",
              "    <tr>\n",
              "      <th>2</th>\n",
              "      <td>Kiribati</td>\n",
              "      <td>2018</td>\n",
              "      <td>9.000000e+01</td>\n",
              "      <td>9.000000e+01</td>\n",
              "    </tr>\n",
              "    <tr>\n",
              "      <th>3</th>\n",
              "      <td>Sao Tome and Principe</td>\n",
              "      <td>2018</td>\n",
              "      <td>1.400000e+02</td>\n",
              "      <td>1.500000e+02</td>\n",
              "    </tr>\n",
              "    <tr>\n",
              "      <th>4</th>\n",
              "      <td>Liechtenstein</td>\n",
              "      <td>2018</td>\n",
              "      <td>1.400000e+02</td>\n",
              "      <td>1.500000e+02</td>\n",
              "    </tr>\n",
              "    <tr>\n",
              "      <th>...</th>\n",
              "      <td>...</td>\n",
              "      <td>...</td>\n",
              "      <td>...</td>\n",
              "      <td>...</td>\n",
              "    </tr>\n",
              "    <tr>\n",
              "      <th>234</th>\n",
              "      <td>IBRD only</td>\n",
              "      <td>2018</td>\n",
              "      <td>2.119031e+07</td>\n",
              "      <td>2.152242e+07</td>\n",
              "    </tr>\n",
              "    <tr>\n",
              "      <th>235</th>\n",
              "      <td>Middle income</td>\n",
              "      <td>2018</td>\n",
              "      <td>2.131934e+07</td>\n",
              "      <td>2.171260e+07</td>\n",
              "    </tr>\n",
              "    <tr>\n",
              "      <th>236</th>\n",
              "      <td>Low &amp; middle income</td>\n",
              "      <td>2018</td>\n",
              "      <td>2.150789e+07</td>\n",
              "      <td>2.190943e+07</td>\n",
              "    </tr>\n",
              "    <tr>\n",
              "      <th>237</th>\n",
              "      <td>IDA &amp; IBRD total</td>\n",
              "      <td>2018</td>\n",
              "      <td>2.207611e+07</td>\n",
              "      <td>2.244242e+07</td>\n",
              "    </tr>\n",
              "    <tr>\n",
              "      <th>238</th>\n",
              "      <td>World</td>\n",
              "      <td>2018</td>\n",
              "      <td>3.428935e+07</td>\n",
              "      <td>3.434401e+07</td>\n",
              "    </tr>\n",
              "  </tbody>\n",
              "</table>\n",
              "<p>239 rows × 4 columns</p>\n",
              "</div>"
            ],
            "text/plain": [
              "              country_name  year     value2018     value2019\n",
              "0                   Tuvalu  2018  1.000000e+01  1.000000e+01\n",
              "1                    Nauru  2018  6.000000e+01  6.000000e+01\n",
              "2                 Kiribati  2018  9.000000e+01  9.000000e+01\n",
              "3    Sao Tome and Principe  2018  1.400000e+02  1.500000e+02\n",
              "4            Liechtenstein  2018  1.400000e+02  1.500000e+02\n",
              "..                     ...   ...           ...           ...\n",
              "234              IBRD only  2018  2.119031e+07  2.152242e+07\n",
              "235          Middle income  2018  2.131934e+07  2.171260e+07\n",
              "236    Low & middle income  2018  2.150789e+07  2.190943e+07\n",
              "237       IDA & IBRD total  2018  2.207611e+07  2.244242e+07\n",
              "238                  World  2018  3.428935e+07  3.434401e+07\n",
              "\n",
              "[239 rows x 4 columns]"
            ]
          },
          "execution_count": 33,
          "metadata": {},
          "output_type": "execute_result"
        }
      ],
      "source": [
        "colunas = ['country_name','value2019']\n",
        "df_join = df_2018.merge(df_2019[colunas], on='country_name', how='left')\n",
        "df_join"
      ]
    },
    {
      "cell_type": "code",
      "execution_count": 34,
      "metadata": {},
      "outputs": [
        {
          "data": {
            "text/html": [
              "<div>\n",
              "<style scoped>\n",
              "    .dataframe tbody tr th:only-of-type {\n",
              "        vertical-align: middle;\n",
              "    }\n",
              "\n",
              "    .dataframe tbody tr th {\n",
              "        vertical-align: top;\n",
              "    }\n",
              "\n",
              "    .dataframe thead th {\n",
              "        text-align: right;\n",
              "    }\n",
              "</style>\n",
              "<table border=\"1\" class=\"dataframe\">\n",
              "  <thead>\n",
              "    <tr style=\"text-align: right;\">\n",
              "      <th></th>\n",
              "      <th>country_name</th>\n",
              "      <th>year</th>\n",
              "      <th>value2018</th>\n",
              "      <th>value2019</th>\n",
              "      <th>Percentual</th>\n",
              "    </tr>\n",
              "  </thead>\n",
              "  <tbody>\n",
              "    <tr>\n",
              "      <th>0</th>\n",
              "      <td>Tuvalu</td>\n",
              "      <td>2018</td>\n",
              "      <td>1.000000e+01</td>\n",
              "      <td>1.000000e+01</td>\n",
              "      <td>0.0</td>\n",
              "    </tr>\n",
              "    <tr>\n",
              "      <th>1</th>\n",
              "      <td>Nauru</td>\n",
              "      <td>2018</td>\n",
              "      <td>6.000000e+01</td>\n",
              "      <td>6.000000e+01</td>\n",
              "      <td>0.0</td>\n",
              "    </tr>\n",
              "    <tr>\n",
              "      <th>2</th>\n",
              "      <td>Kiribati</td>\n",
              "      <td>2018</td>\n",
              "      <td>9.000000e+01</td>\n",
              "      <td>9.000000e+01</td>\n",
              "      <td>0.0</td>\n",
              "    </tr>\n",
              "    <tr>\n",
              "      <th>3</th>\n",
              "      <td>Sao Tome and Principe</td>\n",
              "      <td>2018</td>\n",
              "      <td>1.400000e+02</td>\n",
              "      <td>1.500000e+02</td>\n",
              "      <td>7.1</td>\n",
              "    </tr>\n",
              "    <tr>\n",
              "      <th>4</th>\n",
              "      <td>Liechtenstein</td>\n",
              "      <td>2018</td>\n",
              "      <td>1.400000e+02</td>\n",
              "      <td>1.500000e+02</td>\n",
              "      <td>7.1</td>\n",
              "    </tr>\n",
              "    <tr>\n",
              "      <th>...</th>\n",
              "      <td>...</td>\n",
              "      <td>...</td>\n",
              "      <td>...</td>\n",
              "      <td>...</td>\n",
              "      <td>...</td>\n",
              "    </tr>\n",
              "    <tr>\n",
              "      <th>234</th>\n",
              "      <td>IBRD only</td>\n",
              "      <td>2018</td>\n",
              "      <td>2.119031e+07</td>\n",
              "      <td>2.152242e+07</td>\n",
              "      <td>1.6</td>\n",
              "    </tr>\n",
              "    <tr>\n",
              "      <th>235</th>\n",
              "      <td>Middle income</td>\n",
              "      <td>2018</td>\n",
              "      <td>2.131934e+07</td>\n",
              "      <td>2.171260e+07</td>\n",
              "      <td>1.8</td>\n",
              "    </tr>\n",
              "    <tr>\n",
              "      <th>236</th>\n",
              "      <td>Low &amp; middle income</td>\n",
              "      <td>2018</td>\n",
              "      <td>2.150789e+07</td>\n",
              "      <td>2.190943e+07</td>\n",
              "      <td>1.9</td>\n",
              "    </tr>\n",
              "    <tr>\n",
              "      <th>237</th>\n",
              "      <td>IDA &amp; IBRD total</td>\n",
              "      <td>2018</td>\n",
              "      <td>2.207611e+07</td>\n",
              "      <td>2.244242e+07</td>\n",
              "      <td>1.7</td>\n",
              "    </tr>\n",
              "    <tr>\n",
              "      <th>238</th>\n",
              "      <td>World</td>\n",
              "      <td>2018</td>\n",
              "      <td>3.428935e+07</td>\n",
              "      <td>3.434401e+07</td>\n",
              "      <td>0.2</td>\n",
              "    </tr>\n",
              "  </tbody>\n",
              "</table>\n",
              "<p>239 rows × 5 columns</p>\n",
              "</div>"
            ],
            "text/plain": [
              "              country_name  year     value2018     value2019  Percentual\n",
              "0                   Tuvalu  2018  1.000000e+01  1.000000e+01         0.0\n",
              "1                    Nauru  2018  6.000000e+01  6.000000e+01         0.0\n",
              "2                 Kiribati  2018  9.000000e+01  9.000000e+01         0.0\n",
              "3    Sao Tome and Principe  2018  1.400000e+02  1.500000e+02         7.1\n",
              "4            Liechtenstein  2018  1.400000e+02  1.500000e+02         7.1\n",
              "..                     ...   ...           ...           ...         ...\n",
              "234              IBRD only  2018  2.119031e+07  2.152242e+07         1.6\n",
              "235          Middle income  2018  2.131934e+07  2.171260e+07         1.8\n",
              "236    Low & middle income  2018  2.150789e+07  2.190943e+07         1.9\n",
              "237       IDA & IBRD total  2018  2.207611e+07  2.244242e+07         1.7\n",
              "238                  World  2018  3.428935e+07  3.434401e+07         0.2\n",
              "\n",
              "[239 rows x 5 columns]"
            ]
          },
          "execution_count": 34,
          "metadata": {},
          "output_type": "execute_result"
        }
      ],
      "source": [
        "df_join['Percentual'] = round((((df_join['value2019'] / df_join['value2018']) - 1) * 100), 1)\n",
        "df_join"
      ]
    },
    {
      "cell_type": "code",
      "execution_count": 35,
      "metadata": {},
      "outputs": [],
      "source": [
        "df_join['PercentualGraf'] = df_join[\"Percentual\"].astype(str) + \" %\""
      ]
    },
    {
      "cell_type": "code",
      "execution_count": 36,
      "metadata": {},
      "outputs": [
        {
          "data": {
            "text/html": [
              "<div>\n",
              "<style scoped>\n",
              "    .dataframe tbody tr th:only-of-type {\n",
              "        vertical-align: middle;\n",
              "    }\n",
              "\n",
              "    .dataframe tbody tr th {\n",
              "        vertical-align: top;\n",
              "    }\n",
              "\n",
              "    .dataframe thead th {\n",
              "        text-align: right;\n",
              "    }\n",
              "</style>\n",
              "<table border=\"1\" class=\"dataframe\">\n",
              "  <thead>\n",
              "    <tr style=\"text-align: right;\">\n",
              "      <th></th>\n",
              "      <th>country_name</th>\n",
              "      <th>year</th>\n",
              "      <th>value2018</th>\n",
              "      <th>value2019</th>\n",
              "      <th>Percentual</th>\n",
              "      <th>PercentualGraf</th>\n",
              "    </tr>\n",
              "  </thead>\n",
              "  <tbody>\n",
              "    <tr>\n",
              "      <th>123</th>\n",
              "      <td>Myanmar</td>\n",
              "      <td>2018</td>\n",
              "      <td>32939.998627</td>\n",
              "      <td>36720.001221</td>\n",
              "      <td>11.5</td>\n",
              "      <td>11.5 %</td>\n",
              "    </tr>\n",
              "    <tr>\n",
              "      <th>68</th>\n",
              "      <td>Congo, Rep.</td>\n",
              "      <td>2018</td>\n",
              "      <td>6489.999771</td>\n",
              "      <td>7260.000229</td>\n",
              "      <td>11.9</td>\n",
              "      <td>11.9 %</td>\n",
              "    </tr>\n",
              "    <tr>\n",
              "      <th>73</th>\n",
              "      <td>North Macedonia</td>\n",
              "      <td>2018</td>\n",
              "      <td>7300.000191</td>\n",
              "      <td>8300.000191</td>\n",
              "      <td>13.7</td>\n",
              "      <td>13.7 %</td>\n",
              "    </tr>\n",
              "    <tr>\n",
              "      <th>88</th>\n",
              "      <td>Yemen, Rep.</td>\n",
              "      <td>2018</td>\n",
              "      <td>9720.000267</td>\n",
              "      <td>11100.000381</td>\n",
              "      <td>14.2</td>\n",
              "      <td>14.2 %</td>\n",
              "    </tr>\n",
              "    <tr>\n",
              "      <th>70</th>\n",
              "      <td>El Salvador</td>\n",
              "      <td>2018</td>\n",
              "      <td>6809.999943</td>\n",
              "      <td>7800.000191</td>\n",
              "      <td>14.5</td>\n",
              "      <td>14.5 %</td>\n",
              "    </tr>\n",
              "    <tr>\n",
              "      <th>177</th>\n",
              "      <td>Vietnam</td>\n",
              "      <td>2018</td>\n",
              "      <td>285600.006104</td>\n",
              "      <td>336489.990234</td>\n",
              "      <td>17.8</td>\n",
              "      <td>17.8 %</td>\n",
              "    </tr>\n",
              "    <tr>\n",
              "      <th>46</th>\n",
              "      <td>Suriname</td>\n",
              "      <td>2018</td>\n",
              "      <td>2210.000038</td>\n",
              "      <td>2650.000095</td>\n",
              "      <td>19.9</td>\n",
              "      <td>19.9 %</td>\n",
              "    </tr>\n",
              "    <tr>\n",
              "      <th>53</th>\n",
              "      <td>Madagascar</td>\n",
              "      <td>2018</td>\n",
              "      <td>3349.999905</td>\n",
              "      <td>4119.999886</td>\n",
              "      <td>23.0</td>\n",
              "      <td>23.0 %</td>\n",
              "    </tr>\n",
              "    <tr>\n",
              "      <th>103</th>\n",
              "      <td>Kenya</td>\n",
              "      <td>2018</td>\n",
              "      <td>17489.999771</td>\n",
              "      <td>22280.000687</td>\n",
              "      <td>27.4</td>\n",
              "      <td>27.4 %</td>\n",
              "    </tr>\n",
              "    <tr>\n",
              "      <th>90</th>\n",
              "      <td>Panama</td>\n",
              "      <td>2018</td>\n",
              "      <td>10060.000420</td>\n",
              "      <td>13340.000153</td>\n",
              "      <td>32.6</td>\n",
              "      <td>32.6 %</td>\n",
              "    </tr>\n",
              "  </tbody>\n",
              "</table>\n",
              "</div>"
            ],
            "text/plain": [
              "        country_name  year      value2018      value2019  Percentual  \\\n",
              "123          Myanmar  2018   32939.998627   36720.001221        11.5   \n",
              "68       Congo, Rep.  2018    6489.999771    7260.000229        11.9   \n",
              "73   North Macedonia  2018    7300.000191    8300.000191        13.7   \n",
              "88       Yemen, Rep.  2018    9720.000267   11100.000381        14.2   \n",
              "70       El Salvador  2018    6809.999943    7800.000191        14.5   \n",
              "177          Vietnam  2018  285600.006104  336489.990234        17.8   \n",
              "46          Suriname  2018    2210.000038    2650.000095        19.9   \n",
              "53        Madagascar  2018    3349.999905    4119.999886        23.0   \n",
              "103            Kenya  2018   17489.999771   22280.000687        27.4   \n",
              "90            Panama  2018   10060.000420   13340.000153        32.6   \n",
              "\n",
              "    PercentualGraf  \n",
              "123         11.5 %  \n",
              "68          11.9 %  \n",
              "73          13.7 %  \n",
              "88          14.2 %  \n",
              "70          14.5 %  \n",
              "177         17.8 %  \n",
              "46          19.9 %  \n",
              "53          23.0 %  \n",
              "103         27.4 %  \n",
              "90          32.6 %  "
            ]
          },
          "execution_count": 36,
          "metadata": {},
          "output_type": "execute_result"
        }
      ],
      "source": [
        "df_top10 = df_join.sort_values(by='Percentual', ascending=True)[-10:]\n",
        "df_top10"
      ]
    },
    {
      "cell_type": "code",
      "execution_count": 37,
      "metadata": {},
      "outputs": [
        {
          "name": "stdout",
          "output_type": "stream",
          "text": [
            "<class 'pandas.core.frame.DataFrame'>\n",
            "Int64Index: 10 entries, 123 to 90\n",
            "Data columns (total 6 columns):\n",
            " #   Column          Non-Null Count  Dtype  \n",
            "---  ------          --------------  -----  \n",
            " 0   country_name    10 non-null     object \n",
            " 1   year            10 non-null     int64  \n",
            " 2   value2018       10 non-null     float64\n",
            " 3   value2019       10 non-null     float64\n",
            " 4   Percentual      10 non-null     float64\n",
            " 5   PercentualGraf  10 non-null     object \n",
            "dtypes: float64(3), int64(1), object(2)\n",
            "memory usage: 560.0+ bytes\n"
          ]
        }
      ],
      "source": [
        "df_top10.info()"
      ]
    },
    {
      "cell_type": "code",
      "execution_count": 38,
      "metadata": {},
      "outputs": [],
      "source": [
        "x = df_top10.country_name\n",
        "y = df_top10.Percentual\n"
      ]
    },
    {
      "cell_type": "code",
      "execution_count": 40,
      "metadata": {},
      "outputs": [
        {
          "data": {
            "image/png": "[encoded data removed]",
            "text/plain": [
              "<Figure size 640x480 with 1 Axes>"
            ]
          },
          "metadata": {},
          "output_type": "display_data"
        }
      ],
      "source": [
        "fig = plt.figure() # declara uma figura\n",
        "\n",
        "graf = plt.barh(x,y) # plota o gráfico\n",
        "ax = fig.get_axes() # retorna o elemento \"axes\"\n",
        "\n",
        "ax[0].bar_label(graf)\n",
        "\n",
        "ax[0].spines['right'].set_visible(False)\n",
        "ax[0].spines['top'].set_visible(False)\n",
        "ax[0].spines['bottom'].set_visible(False)\n",
        "\n",
        "ax[0].get_xaxis().set_visible(False)\n",
        "\n",
        "plt.title('Top 10 paises com maiores aumentos percentuais de emissão entre 2018 e 2019')\n",
        "\n",
        "plt.show()\n"
      ]
    },
    {
      "cell_type": "code",
      "execution_count": null,
      "metadata": {},
      "outputs": [
        {
          "data": {
            "image/png": "[encoded data removed]",
            "text/plain": [
              "<Figure size 640x480 with 1 Axes>"
            ]
          },
          "metadata": {},
          "output_type": "display_data"
        }
      ],
      "source": [
        "# Utilizando apenas pandas.\n",
        "ax = df_top10.plot.barh(x='country_name',\n",
        "                        y='Percentual',\n",
        "                        xlabel='',\n",
        "                        legend=False,\n",
        "                        xticks=[],\n",
        "                        title='Top 10 paises com maiores aumentos percentuais de emissão entre 2018 e 2019',\n",
        "                        )"
      ]
    },
    {
      "attachments": {
        "image.png": {
          "image/png": "[encoded data removed]"
        }
      },
      "cell_type": "markdown",
      "metadata": {},
      "source": [
        "![image.png](attachment:image.png)"
      ]
    }
  ],
  "metadata": {
    "colab": {
      "provenance": []
    },
    "kernelspec": {
      "display_name": "Python 3",
      "language": "python",
      "name": "python3"
    },
    "language_info": {
      "codemirror_mode": {
        "name": "ipython",
        "version": 3
      },
      "file_extension": ".py",
      "mimetype": "text/x-python",
      "name": "python",
      "nbconvert_exporter": "python",
      "pygments_lexer": "ipython3",
      "version": "3.10.7"
    }
  },
  "nbformat": 4,
  "nbformat_minor": 0
}
